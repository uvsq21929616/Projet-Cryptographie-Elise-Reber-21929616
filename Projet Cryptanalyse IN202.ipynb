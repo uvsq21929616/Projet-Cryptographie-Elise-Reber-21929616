{
 "cells": [
  {
   "cell_type": "markdown",
   "metadata": {},
   "source": [
    "# Cryptanalyse\n",
    "\n",
    "Votre mission, si vous l'acceptez, est de déchiffrer 4 textes de difficulté croissante en vous aidant d'un programme python que vous allez écrire.\n",
    "\n",
    "\n",
    "- Les fichiers ont été cryptés avec des méthodes données en cours.\n",
    "- Les fichiers chiffrés contiennent des textes en ASCII. Une fois déchiffrés ils vous donneront des informations.\n",
    "- Vous devez vous baser sur les fréquences d'apparition des lettres en français (et des paires de lettres) pour casser les codes. Faire une fonction de calcul pour vous aider.\n",
    "- Penser à réutliser le code du td de cryptographie comme base de travail.\n",
    "- Le code de votre programme doit être sur github et vous fournirez un lien vers votre projet github avec le code et le résultat du décodage\n",
    "en le déposant sur Moodle avant le mercredi 12 mai.\n",
    "- Une soutenance sera organisée le 17 mai.\n",
    "\n",
    "\n"
   ]
  },
  {
   "cell_type": "code",
   "execution_count": 48,
   "metadata": {},
   "outputs": [],
   "source": [
    "import tkinter as tk"
   ]
  },
  {
   "cell_type": "code",
   "execution_count": 49,
   "metadata": {},
   "outputs": [],
   "source": [
    "def decouper_texte_3(texte):\n",
    "    \"\"\"En étudiant les fréquences, on peut retrouver le mot de passe. Ici, on a trouvé     que dans le texte 3, le mot de passe est long de quatre lettres: il faut découper      le texte en quatre.\"\"\"\n",
    "    texte_0 = \"\"\n",
    "    texte_1 = \"\"\n",
    "    texte_2 = \"\"\n",
    "    texte_3 = \"\"\n",
    "    for i in range(len(texte)//4):\n",
    "        texte_0 += texte[i*4 + 0]\n",
    "        texte_1 += texte[i*4 + 1]\n",
    "        texte_2 += texte[i*4 + 2]\n",
    "        texte_3 += texte[i*4 + 3]\n",
    "    res = [texte_0, texte_1, texte_2, texte_3]\n",
    "    return res"
   ]
  },
  {
   "cell_type": "code",
   "execution_count": 50,
   "metadata": {},
   "outputs": [],
   "source": [
    "def decouper_texte_4(texte):\n",
    "    \"\"\"On voit dans le texte 4 (une fois inversé) des chaines de caractères identiques séparées par 8 caractères: \"\"\"\n",
    "    texte_0 = \"\"\n",
    "    texte_1 = \"\"\n",
    "    texte_2 = \"\"\n",
    "    texte_3 = \"\"\n",
    "    texte_4 = \"\"\n",
    "    texte_5 = \"\"\n",
    "    texte_6 = \"\"\n",
    "    for i in range(len(texte)//7):\n",
    "        texte_0 += texte[i*7 + 0]\n",
    "        texte_1 += texte[i*7 + 1]\n",
    "        texte_2 += texte[i*7 + 2]\n",
    "        texte_3 += texte[i*7 + 3]\n",
    "        texte_4 += texte[i*7 + 4]\n",
    "        texte_5 += texte[i*7 + 5]\n",
    "        texte_6 += texte[i*7 + 6]\n",
    "    res = [texte_0, texte_1, texte_2, texte_3, texte_4, texte_5, texte_6]\n",
    "    return res"
   ]
  },
  {
   "cell_type": "code",
   "execution_count": 51,
   "metadata": {},
   "outputs": [
    {
     "output_type": "stream",
     "name": "stdout",
     "text": [
      "kv qsteiadw qrs gqfmem\nzwrno c'rvjmq toirt\ncen bizeiw ofimw el Miwjhuz\npvz ysqnvno rbes vdwvr\npdt sdrffj à bvc iy\nevvjvdvis hd krjthrlen\nkfj vvzjxnzir u'vvffet\net eiy sslfai ev wykmvs\n\nif vjycsrin obj xvdwvr\nwzoj neupzr wh ca ptov\nnstt sjr grus zji yi uyuii\n    b ui bpke tnjetp\nrj lz rpcedp fjt jqpzd\nwh cen pvrtmi trinsmt\nnz rpet zqbzmzrs huz pvrtmi\ntrnn zwfim dtjati\nev ksquvr ymf rjfd\njum kfj bvzous fnvceqeqej\n"
     ]
    }
   ],
   "source": [
    "def inverser(texte):\n",
    "    \"\"\"On peut inverser le texte. On utilise cette fonction pour le texte 4 : on voit      qu'il y a une majuscule à la fin d'un mot et qu'il y a des apostrophes à la fin        des mots. Il faut donc inverser le texte pour pouvoir le decoder. \"\"\"\n",
    "    texte = texte[-1::-1]\n",
    "    return texte\n",
    "\n",
    "texte_4_inverse = inverser(\"\"\"jeqeqecvnf suozvb jfk muj\n",
    "dfjr fmy rvuqsk ve\n",
    "itajtd mifwz nnrt\n",
    "imtrvp zuh srzmzbqz tepr zn\n",
    "tmsnirt imtrvp nec hw\n",
    "dzpqj tjf pdecpr zl jr\n",
    "ptejnt ekpb iu b    \n",
    "iiuyu iy ijz surg rjs ttsn\n",
    "votp ac hw rzpuen jozw\n",
    "rvwdvx jbo nirscyjv fi\n",
    "\n",
    "svmkyw ve iaflss yie te\n",
    "teffvv'u riznxjzvv jfk\n",
    "nelrhtjrk dh sivdvjvve\n",
    "yi cvb à jffrds tdp\n",
    "rvwdv sebr onvnqsy zvp\n",
    "zuhjwiM le wmifo wiezib nec\n",
    "triot qmjvr'c onrwz\n",
    "memfqg srq wdaietsq vk\"\"\")\n",
    "\n",
    "print(texte_4_inverse)"
   ]
  },
  {
   "cell_type": "code",
   "execution_count": 52,
   "metadata": {},
   "outputs": [
    {
     "output_type": "stream",
     "name": "stdout",
     "text": [
      "\n jvz jrvtzizmet  \ntcjn i rttwnrjsiyaie z\njsvvfp nzj wnorwqw \n\n[['j', 10.34], ['v', 6.9], ['r', 6.9], ['t', 8.62], ['i', 6.9], ['m', 1.72], ['e', 3.45], ['c', 1.72], ['n', 6.9], ['w', 6.9], ['s', 3.45], ['y', 1.72], ['a', 1.72], ['f', 1.72], ['p', 1.72], ['o', 1.72], ['q', 1.72]] \n\n\n envmrved muzpmindjprtiuigtp  vbc\nwfefrvnriebr\nsvvwwiet'zgd \n\n[['e', 8.62], ['n', 5.17], ['v', 10.34], ['m', 5.17], ['r', 8.62], ['d', 5.17], ['u', 3.45], ['p', 5.17], ['i', 8.62], ['j', 1.72], ['t', 5.17], ['g', 3.45], ['b', 3.45], ['c', 1.72], ['w', 5.17], ['f', 3.45], ['s', 1.72]] \n\n\n qfbu u\n nthbrsmezfr\n uyj s rjwoy\n l fivekv\n drenpimec c\n a \n\n[['q', 1.72], ['f', 5.17], ['b', 3.45], ['u', 5.17], ['n', 3.45], ['t', 1.72], ['h', 1.72], ['r', 6.9], ['s', 3.45], ['m', 3.45], ['e', 6.9], ['y', 3.45], ['j', 3.45], ['w', 1.72], ['o', 1.72], ['l', 1.72], ['i', 3.45], ['v', 3.45], ['k', 1.72], ['d', 1.72], ['p', 1.72], ['c', 3.45], ['a', 1.72]] \n\n\n e  jfqimnr q ntcp  pe uzrnazod jsvstvz l dyàsvbq\nMiz\nq msi \n\n[['e', 3.45], ['j', 3.45], ['f', 1.72], ['q', 6.9], ['i', 5.17], ['m', 3.45], ['n', 5.17], ['r', 3.45], ['t', 3.45], ['c', 1.72], ['p', 3.45], ['u', 1.72], ['a', 1.72], ['o', 1.72], ['d', 3.45], ['s', 6.9], ['v', 5.17], ['l', 1.72], ['y', 1.72], ['b', 1.72]] \n\n\n qsj\nmstirvszzir qpztkb  j\ncpzvnvvesevnjrdvi  wrsz fitmoere \n\n[['q', 3.45], ['s', 8.62], ['j', 5.17], ['m', 3.45], ['t', 5.17], ['i', 6.9], ['r', 8.62], ['v', 10.34], ['p', 3.45], ['k', 1.72], ['b', 1.72], ['c', 1.72], ['n', 3.45], ['e', 6.9], ['d', 1.72], ['w', 1.72], ['f', 1.72], ['o', 1.72]] \n\n\n eufdykaftpr nrvhjdlep\nissv uwxi m  \n'xfhhj jtd yulobrjnmqt \n\n[['e', 3.45], ['u', 5.17], ['f', 5.17], ['d', 5.17], ['y', 3.45], ['k', 1.72], ['a', 1.72], ['t', 5.17], ['p', 3.45], ['r', 5.17], ['n', 3.45], ['v', 3.45], ['h', 5.17], ['j', 6.9], ['l', 3.45], ['i', 3.45], ['s', 3.45], ['w', 1.72], ['x', 3.45], ['m', 3.45], ['o', 1.72], ['b', 1.72], ['q', 1.72]] \n\n\n cokf  jw\n zt\ntpw e jbiyu ohe\n rfkiytujkt vcfdvo he  ivrf s \n\n[['c', 3.45], ['o', 5.17], ['k', 5.17], ['f', 6.9], ['j', 5.17], ['w', 3.45], ['t', 6.9], ['p', 1.72], ['e', 5.17], ['b', 1.72], ['i', 5.17], ['y', 3.45], ['u', 3.45], ['h', 3.45], ['r', 3.45], ['v', 5.17], ['d', 1.72], ['s', 1.72]] \n\n"
     ]
    }
   ],
   "source": [
    "def frequence1(message_chiffre):\n",
    "    \"\"\"On calcule la fréquence de chaque lettre dans un texte.\"\"\"\n",
    "    resultat=[]\n",
    "    for c in message_chiffre:\n",
    "        if 97 <= ord(c) <+ 122:\n",
    "            exist=True\n",
    "            for i in range(len(resultat)):\n",
    "                if resultat[i][0]==c:\n",
    "                    exist=False\n",
    "            if exist:\n",
    "                resultat.append([c, round(message_chiffre.count(c)/len(message_chiffre)*100,2)])\n",
    "    return resultat\n",
    "\n",
    "\n",
    "res = decouper_texte_4(\"\"\"jeqeqecvnf suozvb jfk muj\n",
    "dfjr fmy rvuqsk ve\n",
    "itajtd mifwz nnrt\n",
    "imtrvp zuh srzmzbqz tepr zn\n",
    "tmsnirt imtrvp nec hw\n",
    "dzpqj tjf pdecpr zl jr\n",
    "ptejnt ekpb iu b\n",
    "iiuyu iy ijz surg rjs ttsn\n",
    "votp ac hw rzpuen jozw\n",
    "rvwdvx jbo nirscyjv fi\n",
    "\n",
    "svmkyw ve iaflss yie te\n",
    "teffvv'u riznxjzvv jfk\n",
    "nelrhtjrk dh sivdvjvve\n",
    "yi cvb à jffrds tdp\n",
    "rvwdv sebr onvnqsy zvp\n",
    "zuhjwiM le wmifo wiezib nec\n",
    "triot qmjvr'c onrwz\n",
    "memfqg srq wdaietsq vk\n",
    "\"\"\")\n",
    "\n",
    "print(\"\\n\", res[0], \"\\n\")\n",
    "print(frequence1(res[0]), \"\\n\")\n",
    "print(\"\\n\", res[1], \"\\n\")\n",
    "print(frequence1(res[1]), \"\\n\")\n",
    "print(\"\\n\", res[2], \"\\n\")\n",
    "print(frequence1(res[2]), \"\\n\")\n",
    "print(\"\\n\", res[3], \"\\n\")\n",
    "print(frequence1(res[3]), \"\\n\")\n",
    "print(\"\\n\", res[4], \"\\n\")\n",
    "print(frequence1(res[4]), \"\\n\")\n",
    "print(\"\\n\", res[5], \"\\n\")\n",
    "print(frequence1(res[5]), \"\\n\")\n",
    "print(\"\\n\", res[6], \"\\n\")\n",
    "print(frequence1(res[6]), \"\\n\")"
   ]
  },
  {
   "cell_type": "code",
   "execution_count": 53,
   "metadata": {},
   "outputs": [
    {
     "output_type": "stream",
     "name": "stdout",
     "text": [
      "\n kism q\nziM\nqbvsàyd l zvtsvsj dozanrzu  njct\n  temziztvrj zv \n\n[['k', 1.69], ['i', 5.08], ['s', 6.78], ['m', 3.39], ['q', 3.39], ['b', 1.69], ['v', 8.47], ['y', 1.69], ['d', 3.39], ['l', 1.69], ['t', 6.78], ['j', 5.08], ['o', 1.69], ['a', 1.69], ['n', 3.39], ['r', 3.39], ['u', 1.69], ['c', 1.69], ['e', 1.69]] \n\n\n va \nc cemipnerd \nvkevif l \nyowjr s jy bj e wpt\ntz \nwj  fkoc \n\n[['v', 5.08], ['a', 1.69], ['c', 5.08], ['e', 6.78], ['m', 1.69], ['i', 3.39], ['p', 3.39], ['n', 1.69], ['r', 3.39], ['d', 1.69], ['k', 3.39], ['f', 3.39], ['l', 1.69], ['y', 3.39], ['o', 3.39], ['w', 5.08], ['j', 6.78], ['s', 1.69], ['b', 1.69], ['t', 3.39]] \n\n\n  dgz'teiwwvvs\nrbeirnvrfefw\ncbv  ptgiu peldjhvrn rptfakydfue \n\n[['d', 5.08], ['g', 3.39], ['t', 5.08], ['e', 8.47], ['i', 5.08], ['w', 5.08], ['v', 8.47], ['s', 1.69], ['r', 8.47], ['b', 3.39], ['n', 3.39], ['f', 6.78], ['c', 1.69], ['p', 5.08], ['u', 3.39], ['l', 1.69], ['j', 1.69], ['h', 1.69], ['a', 1.69], ['k', 1.69], ['y', 1.69]] \n\n\n qwqwronw jzn pfvvsj\nz eiayisjrnwttr ibktzpq rizzsvritsm\njsq \n\n[['q', 6.78], ['w', 6.78], ['r', 8.47], ['o', 1.69], ['n', 5.08], ['j', 6.78], ['p', 3.39], ['f', 1.69], ['v', 5.08], ['s', 8.47], ['e', 1.69], ['i', 8.47], ['a', 1.69], ['y', 1.69], ['t', 6.78], ['b', 1.69], ['k', 1.69], ['m', 1.69]] \n\n\n s frvi  eh ovdfcv tkjutyikfr \neho uyi ep  pctn q rnmiqfj  e \n\n[['s', 1.69], ['f', 6.78], ['r', 5.08], ['v', 5.08], ['i', 6.78], ['e', 6.78], ['h', 3.39], ['o', 3.39], ['d', 1.69], ['c', 3.39], ['t', 5.08], ['k', 3.39], ['j', 3.39], ['u', 3.39], ['y', 3.39], ['p', 3.39], ['n', 3.39], ['q', 3.39], ['m', 1.69]] \n\n\n tqmnjrboluy dtj jhhfx'\n  m ixwu vssi\nu \nrfzemsrbhtn \nu ubfq \n\n[['t', 5.08], ['q', 3.39], ['m', 5.08], ['n', 3.39], ['j', 5.08], ['r', 5.08], ['b', 5.08], ['o', 1.69], ['l', 1.69], ['u', 8.47], ['y', 1.69], ['d', 1.69], ['h', 5.08], ['f', 5.08], ['x', 3.39], ['i', 3.39], ['w', 1.69], ['v', 1.69], ['s', 5.08], ['e', 1.69]] \n\n\n ereomtif zsrw  ivdrjnvesevvnvzpc\nj   itrpjdnimpzum devrmvne \n\n[['e', 10.17], ['r', 8.47], ['o', 1.69], ['m', 6.78], ['t', 3.39], ['i', 6.78], ['f', 1.69], ['s', 3.39], ['w', 1.69], ['v', 11.86], ['d', 5.08], ['j', 5.08], ['n', 6.78], ['p', 5.08], ['c', 1.69], ['u', 1.69]] \n\n"
     ]
    }
   ],
   "source": [
    "def frequence2(message_chiffre):\n",
    "    \"\"\"On calcule la fréquence de chaque lettre et chaque caractère dans un texte.\"\"\"\n",
    "\n",
    "    resultat=[]\n",
    "    for c in message_chiffre:\n",
    "        exist=True\n",
    "        for i in range(len(resultat)):\n",
    "            if resultat[i][0]==c:\n",
    "                exist=False\n",
    "                resultat[i][1]+=round(1/len(message_chiffre)*100,2)\n",
    "        if exist:\n",
    "            resultat.append([c, round(1/len(message_chiffre)*100, 2)])\n",
    "    return resultat\n",
    "\n",
    "\n",
    "res = decouper_texte_4(texte_4_inverse)\n",
    "\n",
    "print(\"\\n\", res[0], \"\\n\")\n",
    "print(frequence1(res[0]), \"\\n\")\n",
    "print(\"\\n\", res[1], \"\\n\")\n",
    "print(frequence1(res[1]), \"\\n\")\n",
    "print(\"\\n\", res[2], \"\\n\")\n",
    "print(frequence1(res[2]), \"\\n\")\n",
    "print(\"\\n\", res[3], \"\\n\")\n",
    "print(frequence1(res[3]), \"\\n\")\n",
    "print(\"\\n\", res[4], \"\\n\")\n",
    "print(frequence1(res[4]), \"\\n\")\n",
    "print(\"\\n\", res[5], \"\\n\")\n",
    "print(frequence1(res[5]), \"\\n\")\n",
    "print(\"\\n\", res[6], \"\\n\")\n",
    "print(frequence1(res[6]), \"\\n\")"
   ]
  },
  {
   "cell_type": "code",
   "execution_count": 54,
   "metadata": {},
   "outputs": [],
   "source": [
    "def rang(lettre):\n",
    "    return ord(lettre)-97"
   ]
  },
  {
   "cell_type": "code",
   "execution_count": 55,
   "metadata": {},
   "outputs": [
    {
     "output_type": "stream",
     "name": "stdout",
     "text": [
      "d\n"
     ]
    }
   ],
   "source": [
    "def decalage(lettre_message, lettre_cle):\n",
    "    \"\"\"on décale \"\"\"\n",
    "    if 97<=ord(lettre_message)<=122:\n",
    "        return chr((rang(lettre_message)+rang(lettre_cle))%26 + 97)\n",
    "    else:\n",
    "        return lettre_message\n",
    "\n",
    "print(decalage(\"c\", \"b\"))"
   ]
  },
  {
   "cell_type": "code",
   "execution_count": 56,
   "metadata": {},
   "outputs": [
    {
     "output_type": "stream",
     "name": "stdout",
     "text": [
      "bravo a l’aide de l'indice vous avez reussi a casser ce code et a finir ce devoir. le dernier texte est pour les braves, regardez vous dans un miroir, en etes vous un ?\nle prochain fichier aura un code par substitution alphabetique: chaque lettre est remplacee par une autre. utiliser la frequence des lettres pour decoder le message.\n"
     ]
    }
   ],
   "source": [
    "def dec_texte(texte, cle):\n",
    "    \"\"\"On déchiffre le texte à partir de la clé fournie. On l'utilise pour déchiffrer      les textes 1, 3 et 4. Le texte 1 est déchiffré hrâce à une analyse de fréquence:       on voit que le e devient un d. On décale chaque lettre du texte de +1 pour             déchiffrer le texte. On voit que la clé de déchiffrage est b.\n",
    "    En étudiant les fréquences, on trouve que la clé du texte 3 est composée de quatr      lettres. On trouve chaque lettre en étudiant les fréquences: \n",
    "        pour la première partie du texte, le e est chiffré en g: la première lettre du         code est \"y\".\n",
    "        pour la deuxième partie du texte, le e est chiffré en p: la deuxième lettre de         la clé est \"p\".\n",
    "        pour la troisième lettre du texte, le e est chiffré en i: la troisième lettre          de la clé est \"w\".\n",
    "        pour la quatrième lettre du texte, le e est chiffré en d: la quatrième lettre          de la clé est \"b\".\n",
    "        La clé pour déchiffrer le troisième texte est \"ypwb\".\"\"\"\n",
    "    taille_cle = len(cle)\n",
    "    res=\"\"\n",
    "    for i in range(len(texte)):\n",
    "        res += decalage(texte[i], cle[i%taille_cle])\n",
    "    return res\n",
    "\n",
    "print(dec_texte(\"dceuq e n’ehfp cg p'kyhhep uqfw cgiy citudm c gzudiq ni ezhd px c jhptv ep cggsht. kg hdtymdt xdzei gdx rzyq wir mvzxpw, cifcchdb znwd ccyw wy lkcsht, dp isgd uqfw wy ?\", \"ypwb\"))\n",
    "\n",
    "print(dec_texte(\"kd oqnbgzhm ehbghdq ztqz tm bncd ozq rtarshstshnm zkogzadshptd: bgzptd kdssqd drs qdlokzbdd ozq tmd ztsqd. tshkhrdq kz eqdptdmbd cdr kdssqdr ontq cdbncdq kd ldrrzfd.\", \"b\"))"
   ]
  },
  {
   "cell_type": "code",
   "execution_count": 57,
   "metadata": {},
   "outputs": [],
   "source": [
    "def chiffre():\n",
    "    resultat.delete(0,tk.END)\n",
    "    text=entree_texte.get()\n",
    "    cle=entree_cle.get()\n",
    "    if ((len(text)>0) and (len(cle)>0)):\n",
    "        res=dec_texte(text, cle)\n",
    "        resultat.insert(0, res)\n",
    "    else:\n",
    "        resultat.insert(0, \"il manque quelque chose\")"
   ]
  },
  {
   "cell_type": "code",
   "execution_count": 58,
   "metadata": {},
   "outputs": [
    {
     "output_type": "stream",
     "name": "stdout",
     "text": [
      "le prochain fichier est code par un mot de passe de taille inconnue et contient l'indice. les lettres du mot de passe permettent de decaler les lettres du message original modulo 26. seules les lettres de a a z sont chiffrees.\n"
     ]
    }
   ],
   "source": [
    "def dechiffrer_texte_2(texte):\n",
    "    \"\"\"Déchiffre le texte 2 par substitution : chaque lettre est remplacée par une         autre par le programme. On trouve les lettres les plus communes avec une analyse       de fréquences et on peut ensuite deviner les autres grace au texte partiellement       déchiffré. On trouve la lettre qui est remplacée par \"a\" en déchiffrant le texte       3: il s'agit du z, car toutes les lettres du texte 3 sont chiffrées.\"\"\"   \n",
    "    res = \"\"\n",
    "    for i in range(len(texte)):\n",
    "        if texte[i]==\"x\":\n",
    "            res+=\"e\"\n",
    "        elif texte[i]==\"g\":\n",
    "            res+=\"l\"\n",
    "        elif texte[i]==\"q\":\n",
    "            res+=\"p\"\n",
    "        elif texte[i]==\"o\":\n",
    "            res+=\"r\"\n",
    "        elif texte[i]==\"s\":\n",
    "            res+=\"o\"\n",
    "        elif texte[i]==\"v\":\n",
    "            res+=\"c\"\n",
    "        elif texte[i]==\"l\":\n",
    "            res+=\"h\"\n",
    "        elif texte[i]==\"n\":\n",
    "            res+=\"a\"\n",
    "        elif texte[i]==\"k\":\n",
    "            res+=\"i\"\n",
    "        elif texte[i]==\"d\":\n",
    "            res+=\"n\"\n",
    "        elif texte[i]==\"w\":\n",
    "            res+=\"f\"\n",
    "        elif texte[i]==\"i\":\n",
    "            res+=\"s\"\n",
    "        elif texte[i]==\"u\":\n",
    "            res+=\"t\"\n",
    "        elif texte[i]==\"c\":\n",
    "            res+=\"d\"\n",
    "        elif texte[i]==\"y\":\n",
    "            res+=\"u\"\n",
    "        elif texte[i]==\"f\":\n",
    "            res+=\"m\"\n",
    "        elif texte[i]==\"m\":\n",
    "            res+=\"g\"\n",
    "        elif texte[i]==\"a\":\n",
    "            res+=\"z\"\n",
    "        else: \n",
    "            res+= texte[i]\n",
    "    return res\n",
    "\n",
    "print(dechiffrer_texte_2(\"gx qosvlnkd wkvlkxo xiu vscx qno yd fsu cx qniix cx unkggx kdvsddyx xu vsdukxdu g'kdckvx. gxi gxuuoxi cy fsu cx qniix qxofxuuxdu cx cxvngxo gxi gxuuoxi cy fxiinmx sokmkdng fscygs 26. ixygxi gxi gxuuoxi cx n n a isdu vlkwwoxxi.\"))"
   ]
  },
  {
   "cell_type": "code",
   "execution_count": 59,
   "metadata": {},
   "outputs": [],
   "source": [
    "racine = tk.Tk()\n",
    "racine.title(\"Cryptographie\")\n",
    "\n",
    "entree_texte = tk.Entry(racine, width = 50, font = (\"helvetica\", \"20\"))\n",
    "entree_texte.grid(row=0, column = 1)\n",
    "\n",
    "entree_cle = tk.Entry(racine, width=50, font = (\"helvetica\", \"20\"))\n",
    "entree_cle.grid(row=1, column=1)\n",
    "\n",
    "label_texte = tk.Label(racine, font=(\"helvetica\", \"20\"), text=\"entrer le message\")\n",
    "label_texte.grid(row=0, column=0)\n",
    "\n",
    "label_cle = tk.Label(racine, font=(\"helvetica\", \"20\"), text=\"entrer la cle\")\n",
    "label_cle.grid(row=1, column=0)\n",
    "\n",
    "label_dech = tk.Label(racine, font=(\"helvetica\", \"20\"), text=\"dechiffrer\")\n",
    "label_dech.grid(row=3, column=0)\n",
    "\n",
    "bouton_coder = tk.Button(racine, text=\"chiffrer le texte\", fg=\"black\", width=15, command=chiffre)\n",
    "bouton_coder.grid(row=2, column=0)\n",
    "\n",
    "bouton_decoder = tk.Button(racine, text=\"dechiffrer le texte\", fg=\"black\", width=15, command=chiffre)\n",
    "bouton_decoder.grid(row=2, column=1)\n",
    "\n",
    "resultat = tk.Entry(racine, width=50, font = (\"helvetica\", \"20\"))\n",
    "resultat.grid(row=3, column=1)\n",
    "\n",
    "racine.mainloop()"
   ]
  },
  {
   "cell_type": "code",
   "execution_count": null,
   "metadata": {},
   "outputs": [],
   "source": []
  }
 ],
 "metadata": {
  "kernelspec": {
   "name": "python373jvsc74a57bd0af491f6a824dff13faf2aaab4595b3df5ce9ec3f997c4ac7113e5524add52c43",
   "display_name": "Python 3.7.3 64-bit"
  },
  "language_info": {
   "codemirror_mode": {
    "name": "ipython",
    "version": 3
   },
   "file_extension": ".py",
   "mimetype": "text/x-python",
   "name": "python",
   "nbconvert_exporter": "python",
   "pygments_lexer": "ipython3",
   "version": "3.7.3"
  }
 },
 "nbformat": 4,
 "nbformat_minor": 2
}